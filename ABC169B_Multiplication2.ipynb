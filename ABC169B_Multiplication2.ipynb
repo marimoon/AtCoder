{
 "cells": [
  {
   "cell_type": "markdown",
   "metadata": {},
   "source": [
    "[問題](https://atcoder.jp/contests/abc169/tasks/abc169_b)"
   ]
  },
  {
   "cell_type": "code",
   "execution_count": 48,
   "metadata": {},
   "outputs": [],
   "source": [
    "#n = int(input())\n",
    "#xs = list(map(int, input().split()))\n",
    "\n",
    "from functools import reduce\n",
    "def multi2(x, y):\n",
    "    rc = -1\n",
    "    if y ==0:\n",
    "        rc = 0\n",
    "    else:\n",
    "        if x<0:\n",
    "            rc= -1\n",
    "        else:\n",
    "            a = x*y\n",
    "            if a <= 10**18:\n",
    "                rc= a\n",
    "            else:\n",
    "                rc= -1\n",
    "    return rc\n",
    "\n",
    "def ABC169B(n, xs):\n",
    "    val = reduce(multi2, xs, 1)\n",
    "    print( val )\n",
    "\n",
    "#ABC169B(n, xs)"
   ]
  },
  {
   "cell_type": "code",
   "execution_count": 49,
   "metadata": {},
   "outputs": [
    {
     "name": "stdout",
     "output_type": "stream",
     "text": [
      "0\n"
     ]
    }
   ],
   "source": [
    "n = 31\n",
    "xs = list(map(int ,\"4 1 5 9 2 6 5 3 5 8 9 7 9 3 2 3 8 4 6 2 6 4 3 3 8 3 2 7 9 5 0\".split() ) )\n",
    "ABC169B(n, xs)"
   ]
  },
  {
   "cell_type": "code",
   "execution_count": 50,
   "metadata": {},
   "outputs": [
    {
     "name": "stdout",
     "output_type": "stream",
     "text": [
      "-1\n"
     ]
    }
   ],
   "source": [
    "n = 3\n",
    "xs = list(map(int ,\"101 9901 999999000001\".split() ) )\n",
    "ABC169B(n, xs)"
   ]
  },
  {
   "cell_type": "code",
   "execution_count": 51,
   "metadata": {},
   "outputs": [
    {
     "name": "stdout",
     "output_type": "stream",
     "text": [
      "1000000000000000000\n"
     ]
    }
   ],
   "source": [
    "n = 2\n",
    "xs = list(map(int ,\"1000000000 1000000000\".split() ) )\n",
    "ABC169B(n, xs)"
   ]
  }
 ],
 "metadata": {
  "kernelspec": {
   "display_name": "Python 3",
   "language": "python",
   "name": "python3"
  },
  "language_info": {
   "codemirror_mode": {
    "name": "ipython",
    "version": 3
   },
   "file_extension": ".py",
   "mimetype": "text/x-python",
   "name": "python",
   "nbconvert_exporter": "python",
   "pygments_lexer": "ipython3",
   "version": "3.7.0"
  }
 },
 "nbformat": 4,
 "nbformat_minor": 2
}
