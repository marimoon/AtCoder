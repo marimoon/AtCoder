{
 "cells": [
  {
   "cell_type": "markdown",
   "metadata": {},
   "source": [
    "[問題](https://atcoder.jp/contests/arc110/tasks/arc110_b)"
   ]
  },
  {
   "cell_type": "code",
   "execution_count": 1,
   "metadata": {},
   "outputs": [
    {
     "name": "stdout",
     "output_type": "stream",
     "text": [
      "-1\n"
     ]
    }
   ],
   "source": [
    "#N = int(input())\n",
    "#P = list(map(int,input().split()))\n",
    "\n",
    "N = 5\n",
    "P = [4, 1, 2, 3, 5]\n",
    "\n",
    "ans = []\n",
    "used = set()\n",
    " \n",
    "l = 0\n",
    "for i in range(1,N+1):\n",
    "    for j in range(l,N):\n",
    "        if P[j] == i:\n",
    "            for k in range(j-1,l-1,-1):\n",
    "                if k+1 in used:\n",
    "                    print(-1)\n",
    "                    exit()\n",
    "                ans.append(k+1)\n",
    "                used.add(k+1)\n",
    "                P[k],P[k+1] = P[k+1],P[k]\n",
    "            l += 1\n",
    "            break\n",
    "if len(used) == N-1:\n",
    "    print(*ans,sep=\"\\n\")\n",
    "else:\n",
    "    print(-1)"
   ]
  },
  {
   "cell_type": "markdown",
   "metadata": {},
   "source": [
    "## コードの解説\n",
    "対象の配列が$1,...,N$と連続であると分かっているため、配列の左から順に値が正しくなるようにソートしていく。  \n",
    "$i$が未ソート領域の最小値である。\n",
    "$j$はソート対象を探すためのインデックスである。  \n",
    "ソート対象の値$i$が$j$番目に存在していることが分かれば、$(j-1)$番目から1つずつ左にswapして($i-1$)番目のインデックスまで運ぶ。  \n",
    "swapする過程で、すでにswapを実施したことのあるindex番号を`used`に発見したら、-1を出力する。"
   ]
  },
  {
   "cell_type": "code",
   "execution_count": 2,
   "metadata": {},
   "outputs": [
    {
     "name": "stdout",
     "output_type": "stream",
     "text": [
      "\n",
      "Target=1 is found at 1th index. P[1] == 1 : P=[4, 1, 2, 3, 5]\n",
      "@@ Move P[1](=1) to 1th index.\n",
      "-> -> swap: P[0]=4 <--> P[1]=1\n",
      "\n",
      "Target=2 is found at 2th index. P[2] == 2 : P=[1, 4, 2, 3, 5]\n",
      "@@ Move P[2](=2) to 2th index.\n",
      "-> -> swap: P[1]=4 <--> P[2]=2\n",
      "\n",
      "Target=3 is found at 3th index. P[3] == 3 : P=[1, 2, 4, 3, 5]\n",
      "@@ Move P[3](=3) to 3th index.\n",
      "-> -> swap: P[2]=4 <--> P[3]=3\n",
      "\n",
      "Target=4 is found at 3th index. P[3] == 4 : P=[1, 2, 3, 4, 5]\n",
      "@@ Nothing to do.\n",
      "\n",
      "Target=5 is found at 4th index. P[4] == 5 : P=[1, 2, 3, 4, 5]\n",
      "@@ Nothing to do.\n",
      "-1\n"
     ]
    }
   ],
   "source": [
    "#N = int(input())\n",
    "#P = list(map(int,input().split()))\n",
    "N = 5\n",
    "P = [4, 1, 2, 3, 5]\n",
    "\n",
    "ans = []\n",
    "used = set()\n",
    " \n",
    "l = 0\n",
    "for i in range(1,N+1):\n",
    "    for j in range(l,N):\n",
    "        if P[j] == i:\n",
    "            print(\"\\nTarget={1} is found at {0}th index. P[{0}] == {1} : P={2}\".format(j, i, P))\n",
    "            if i-1 != j:\n",
    "                print(\"@@ Move P[{0}](={1}) to {1}th index.\".format(j, i))\n",
    "            else:\n",
    "                print(\"@@ Nothing to do.\")\n",
    "            for k in range(j-1,l-1,-1):\n",
    "                print(\"-> -> swap: P[{0}]={2} <--> P[{1}]={3}\".format(k, k+1, P[k], P[k+1]))\n",
    "                if k+1 in used:\n",
    "                    print(-1)\n",
    "                    print(\"This swap is already used...\")\n",
    "                    exit()\n",
    "                ans.append(k+1)\n",
    "                used.add(k+1)\n",
    "                P[k],P[k+1] = P[k+1],P[k]\n",
    "            l += 1\n",
    "            break\n",
    "if len(used) == N-1:\n",
    "    print(*ans,sep=\"\\n\")\n",
    "else:\n",
    "    print(-1)"
   ]
  },
  {
   "cell_type": "code",
   "execution_count": null,
   "metadata": {},
   "outputs": [],
   "source": []
  }
 ],
 "metadata": {
  "kernelspec": {
   "display_name": "Python 3",
   "language": "python",
   "name": "python3"
  },
  "language_info": {
   "codemirror_mode": {
    "name": "ipython",
    "version": 3
   },
   "file_extension": ".py",
   "mimetype": "text/x-python",
   "name": "python",
   "nbconvert_exporter": "python",
   "pygments_lexer": "ipython3",
   "version": "3.7.7"
  }
 },
 "nbformat": 4,
 "nbformat_minor": 4
}
