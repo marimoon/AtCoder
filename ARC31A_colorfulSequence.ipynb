{
 "cells": [
  {
   "cell_type": "markdown",
   "metadata": {},
   "source": [
    "[問題](https://atcoder.jp/contests/agc031/tasks/agc031_a)"
   ]
  },
  {
   "cell_type": "code",
   "execution_count": 1,
   "metadata": {},
   "outputs": [
    {
     "name": "stdout",
     "output_type": "stream",
     "text": [
      "3\n",
      "baa\n",
      "5\n"
     ]
    }
   ],
   "source": [
    "n = int(input())\n",
    "s = input()\n",
    "x = []\n",
    "\n",
    "for i in range(n):\n",
    "    x.append(s[i])\n",
    "\n",
    "import collections\n",
    "clist = collections.Counter(x)\n",
    "\n",
    "y = list(clist.values())\n",
    "\n",
    "cnt = 1\n",
    "for item in y:\n",
    "    cnt = cnt * (item + 1)\n",
    "cnt = cnt - 1\n",
    "cnt = cnt % (10 ** 9 + 7)\n",
    "print(cnt)"
   ]
  },
  {
   "cell_type": "code",
   "execution_count": 2,
   "metadata": {},
   "outputs": [
    {
     "name": "stdout",
     "output_type": "stream",
     "text": [
      "5\n",
      "abcab\n",
      "17\n"
     ]
    }
   ],
   "source": [
    "n = int(input())\n",
    "s = input()\n",
    "x = []\n",
    "\n",
    "for i in range(n):\n",
    "    x.append(s[i])\n",
    "\n",
    "import collections\n",
    "clist = collections.Counter(x)\n",
    "\n",
    "y = list(clist.values())\n",
    "\n",
    "cnt = 1\n",
    "for item in y:\n",
    "    cnt = cnt * (item + 1)\n",
    "cnt = cnt - 1\n",
    "cnt = cnt % (10 ** 9 + 7)\n",
    "print(cnt)"
   ]
  },
  {
   "cell_type": "code",
   "execution_count": null,
   "metadata": {},
   "outputs": [],
   "source": []
  }
 ],
 "metadata": {
  "kernelspec": {
   "display_name": "Python 3",
   "language": "python",
   "name": "python3"
  },
  "language_info": {
   "codemirror_mode": {
    "name": "ipython",
    "version": 3
   },
   "file_extension": ".py",
   "mimetype": "text/x-python",
   "name": "python",
   "nbconvert_exporter": "python",
   "pygments_lexer": "ipython3",
   "version": "3.7.0"
  }
 },
 "nbformat": 4,
 "nbformat_minor": 2
}
