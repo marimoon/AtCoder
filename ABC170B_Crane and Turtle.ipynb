{
 "cells": [
  {
   "cell_type": "markdown",
   "metadata": {},
   "source": [
    "[問題](https://atcoder.jp/contests/abc170/tasks/abc170_b)"
   ]
  },
  {
   "cell_type": "markdown",
   "metadata": {},
   "source": [
    "Y(足の数)は常に偶数であることを忘れずに。"
   ]
  },
  {
   "cell_type": "code",
   "execution_count": 3,
   "metadata": {},
   "outputs": [
    {
     "name": "stdout",
     "output_type": "stream",
     "text": [
      "5 18\n",
      "Yes\n"
     ]
    }
   ],
   "source": [
    "X, Y = list(map(int, input().split()))\n",
    "# X = N + M\n",
    "# 2N+4M=Y\n",
    "#\n",
    "# 2N+4(X-N)=Y\n",
    "# 2N = 4X-Y\n",
    "#  N = 2X-Y//2 >= 0\n",
    "#  M = X - N = Y//2-X >= 0\n",
    "print( \"Yes\" if ((2*X-Y//2) >=0 and (Y//2-X)>=0) and (Y%2 == 0) else \"No\" )"
   ]
  }
 ],
 "metadata": {
  "kernelspec": {
   "display_name": "Python 3",
   "language": "python",
   "name": "python3"
  },
  "language_info": {
   "codemirror_mode": {
    "name": "ipython",
    "version": 3
   },
   "file_extension": ".py",
   "mimetype": "text/x-python",
   "name": "python",
   "nbconvert_exporter": "python",
   "pygments_lexer": "ipython3",
   "version": "3.7.0"
  }
 },
 "nbformat": 4,
 "nbformat_minor": 2
}
