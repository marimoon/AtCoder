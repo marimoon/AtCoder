{
 "cells": [
  {
   "cell_type": "markdown",
   "metadata": {},
   "source": [
    "[問題](https://atcoder.jp/contests/abc187/tasks/abc187_b)"
   ]
  },
  {
   "cell_type": "code",
   "execution_count": null,
   "metadata": {},
   "outputs": [],
   "source": [
    "N = int(input())\n",
    "data = list()\n",
    "for _ in range(N):\n",
    "    x,y = list(map(int, input().split()))\n",
    "    data.append( (x,y) )\n",
    "\n",
    "cnt = 0\n",
    "for i in range(N):\n",
    "    for j in range(i+1,N):\n",
    "        alpha = (data[j][1] - data[i][1])/(data[j][0]-data[i][0])\n",
    "        if alpha >= -1 and alpha <= 1:\n",
    "            cnt += 1\n",
    "print(cnt)"
   ]
  }
 ],
 "metadata": {
  "kernelspec": {
   "display_name": "Python 3",
   "language": "python",
   "name": "python3"
  },
  "language_info": {
   "codemirror_mode": {
    "name": "ipython",
    "version": 3
   },
   "file_extension": ".py",
   "mimetype": "text/x-python",
   "name": "python",
   "nbconvert_exporter": "python",
   "pygments_lexer": "ipython3",
   "version": "3.7.7"
  }
 },
 "nbformat": 4,
 "nbformat_minor": 4
}
