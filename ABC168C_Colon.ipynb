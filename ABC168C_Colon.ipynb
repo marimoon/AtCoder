{
 "cells": [
  {
   "cell_type": "markdown",
   "metadata": {},
   "source": [
    "[問題](https://atcoder.jp/contests/abc168/tasks/abc168_c)"
   ]
  },
  {
   "cell_type": "code",
   "execution_count": 4,
   "metadata": {},
   "outputs": [
    {
     "name": "stdout",
     "output_type": "stream",
     "text": [
      "3 4 10 40\n",
      "4.56425719433005561143\n"
     ]
    }
   ],
   "source": [
    "import math\n",
    "A, B, H, M = list(map(int, input().split()))\n",
    "t1 = (H+M/60)/12*360\n",
    "t2 = M*6\n",
    "t  = abs(t1-t2)\n",
    "if t > 180:\n",
    "    t = 360-t\n",
    "t = t*math.pi/180.0\n",
    "print( '{0:.20f}'.format(math.sqrt( (A*math.sin(t))**2 + (B-A*math.cos(t))**2  ) )  )"
   ]
  },
  {
   "cell_type": "code",
   "execution_count": 5,
   "metadata": {},
   "outputs": [
    {
     "name": "stdout",
     "output_type": "stream",
     "text": [
      "3 4 9 0\n",
      "5.00000000000000000000\n"
     ]
    }
   ],
   "source": [
    "import math\n",
    "A, B, H, M = list(map(int, input().split()))\n",
    "t1 = (H+M/60)/12*360\n",
    "t2 = M*6\n",
    "t  = abs(t1-t2)\n",
    "if t > 180:\n",
    "    t = 360-t\n",
    "t = t*math.pi/180.0\n",
    "print( '{0:.20f}'.format(math.sqrt( (A*math.sin(t))**2 + (B-A*math.cos(t))**2  ) )  )"
   ]
  },
  {
   "cell_type": "code",
   "execution_count": null,
   "metadata": {},
   "outputs": [],
   "source": []
  }
 ],
 "metadata": {
  "kernelspec": {
   "display_name": "Python 3",
   "language": "python",
   "name": "python3"
  },
  "language_info": {
   "codemirror_mode": {
    "name": "ipython",
    "version": 3
   },
   "file_extension": ".py",
   "mimetype": "text/x-python",
   "name": "python",
   "nbconvert_exporter": "python",
   "pygments_lexer": "ipython3",
   "version": "3.7.0"
  }
 },
 "nbformat": 4,
 "nbformat_minor": 2
}
