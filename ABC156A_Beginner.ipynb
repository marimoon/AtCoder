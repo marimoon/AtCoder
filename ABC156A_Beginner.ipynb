{
 "cells": [
  {
   "cell_type": "markdown",
   "metadata": {},
   "source": [
    "[問題](https://atcoder.jp/contests/abc156/tasks/abc156_a)"
   ]
  },
  {
   "cell_type": "code",
   "execution_count": 2,
   "metadata": {},
   "outputs": [
    {
     "name": "stdout",
     "output_type": "stream",
     "text": [
      "2 2919\n",
      "3719\n"
     ]
    }
   ],
   "source": [
    "N, R = list( map( int, input().split()))\n",
    "if N >= 10:\n",
    "  print(R)\n",
    "else:\n",
    "  print(R+100*(10-N))"
   ]
  },
  {
   "cell_type": "code",
   "execution_count": 3,
   "metadata": {},
   "outputs": [
    {
     "name": "stdout",
     "output_type": "stream",
     "text": [
      "22 3051\n",
      "3051\n"
     ]
    }
   ],
   "source": [
    "N, R = list( map( int, input().split()))\n",
    "if N >= 10:\n",
    "  print(R)\n",
    "else:\n",
    "  print(R+100*(10-N))"
   ]
  }
 ],
 "metadata": {
  "kernelspec": {
   "display_name": "Python 3",
   "language": "python",
   "name": "python3"
  },
  "language_info": {
   "codemirror_mode": {
    "name": "ipython",
    "version": 3
   },
   "file_extension": ".py",
   "mimetype": "text/x-python",
   "name": "python",
   "nbconvert_exporter": "python",
   "pygments_lexer": "ipython3",
   "version": "3.7.7"
  }
 },
 "nbformat": 4,
 "nbformat_minor": 4
}
