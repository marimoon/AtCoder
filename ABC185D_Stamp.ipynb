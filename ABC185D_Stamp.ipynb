{
 "cells": [
  {
   "cell_type": "markdown",
   "metadata": {},
   "source": [
    "[問題](https://atcoder.jp/contests/abc185/tasks/abc185_d)"
   ]
  },
  {
   "cell_type": "code",
   "execution_count": 1,
   "metadata": {},
   "outputs": [
    {
     "name": "stdout",
     "output_type": "stream",
     "text": [
      "1 0\n",
      "1\n"
     ]
    }
   ],
   "source": [
    "N, M = list( map( int, input().split() ) )\n",
    "if M > 0:\n",
    "    As   = list( map( int, input().split() ) )\n",
    "else:\n",
    "    As = list()\n",
    "As = sorted(As)\n",
    "\n",
    "#for i in range(N):\n",
    "#    print(\"{:2d}\".format(i+1), end=\"\")\n",
    "#print(\"\")\n",
    "#for i in range(N):\n",
    "#    if i+1 in As:\n",
    "#        print(\"**\", end=\"\")\n",
    "#    else:\n",
    "#        print(\"__\", end=\"\")\n",
    "#print(\"\")\n",
    "\n",
    "#空きリスト\n",
    "x = list()\n",
    "x0 = 1\n",
    "if M > 0:\n",
    "    for a in As+[N+1]:\n",
    "        if (a - x0) > 0:\n",
    "            x.append(a-x0)\n",
    "        x0 = a+1\n",
    "else:\n",
    "    x = [ N ]\n",
    "#print(len(x))\n",
    "#import math\n",
    "#from functools import reduce\n",
    "#k = reduce(math.gcd, x, max(x))\n",
    "\n",
    "ans = 0\n",
    "\n",
    "if len(x) > 0:\n",
    "    k = min(x)\n",
    "    #print(\"@@@\", x, k)\n",
    "\n",
    "    # 回数計算\n",
    "    for i in range(len(x)):\n",
    "        ans += x[i]//k\n",
    "        if x[i]%k!=0:\n",
    "            ans += 1\n",
    "print( ans )"
   ]
  },
  {
   "cell_type": "code",
   "execution_count": null,
   "metadata": {},
   "outputs": [],
   "source": []
  }
 ],
 "metadata": {
  "kernelspec": {
   "display_name": "Python 3",
   "language": "python",
   "name": "python3"
  },
  "language_info": {
   "codemirror_mode": {
    "name": "ipython",
    "version": 3
   },
   "file_extension": ".py",
   "mimetype": "text/x-python",
   "name": "python",
   "nbconvert_exporter": "python",
   "pygments_lexer": "ipython3",
   "version": "3.7.0"
  }
 },
 "nbformat": 4,
 "nbformat_minor": 2
}
