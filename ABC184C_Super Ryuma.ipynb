{
 "cells": [
  {
   "cell_type": "markdown",
   "metadata": {},
   "source": [
    "# ABC184C"
   ]
  },
  {
   "cell_type": "markdown",
   "metadata": {},
   "source": [
    "問題：[ABC184C](https://atcoder.jp/contests/abc184/tasks/abc184_c)"
   ]
  },
  {
   "cell_type": "code",
   "execution_count": 1,
   "metadata": {},
   "outputs": [
    {
     "name": "stdout",
     "output_type": "stream",
     "text": [
      "0 0\n",
      "311 204\n",
      "3\n"
     ]
    }
   ],
   "source": [
    "r1,c1 = map(int,input().split())\n",
    "r2,c2 = map(int,input().split())\n",
    "if r1 == r2 and c1 == c2:\n",
    "    print(0)\n",
    "elif r1 + c1 == r2 + c2 or r1 - c1 == r2  - c2 or abs(r1 - r2) + abs(c1 - c2) <= 3:\n",
    "    print(1)\n",
    "elif (r1 + c1 + r2 + c2) % 2 == 0 or abs(r1 - r2) + abs(c1 - c2) <= 6 or abs(r1+c1-(r2+c2)) <= 3 or abs((r1-c1)-(r2-c2)) <= 3:\n",
    "    print(2)\n",
    "else:\n",
    "    print(3)"
   ]
  },
  {
   "cell_type": "code",
   "execution_count": null,
   "metadata": {},
   "outputs": [],
   "source": []
  }
 ],
 "metadata": {
  "kernelspec": {
   "display_name": "Python 3",
   "language": "python",
   "name": "python3"
  },
  "language_info": {
   "codemirror_mode": {
    "name": "ipython",
    "version": 3
   },
   "file_extension": ".py",
   "mimetype": "text/x-python",
   "name": "python",
   "nbconvert_exporter": "python",
   "pygments_lexer": "ipython3",
   "version": "3.7.7"
  }
 },
 "nbformat": 4,
 "nbformat_minor": 4
}
