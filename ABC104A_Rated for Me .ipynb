{
 "cells": [
  {
   "cell_type": "markdown",
   "metadata": {},
   "source": [
    "[問題](https://atcoder.jp/contests/abc104/tasks/abc104_a)"
   ]
  },
  {
   "cell_type": "code",
   "execution_count": 1,
   "metadata": {},
   "outputs": [
    {
     "name": "stdout",
     "output_type": "stream",
     "text": [
      "1000\n",
      "ABC\n"
     ]
    }
   ],
   "source": [
    "R = int(input())\n",
    "if R < 1200:\n",
    "  print(\"ABC\")\n",
    "elif R < 2800:\n",
    "  print(\"ARC\")\n",
    "else:\n",
    "  print(\"AGC\")"
   ]
  },
  {
   "cell_type": "code",
   "execution_count": 2,
   "metadata": {},
   "outputs": [
    {
     "name": "stdout",
     "output_type": "stream",
     "text": [
      "1300\n",
      "ARC\n"
     ]
    }
   ],
   "source": [
    "R = int(input())\n",
    "if R < 1200:\n",
    "  print(\"ABC\")\n",
    "elif R < 2800:\n",
    "  print(\"ARC\")\n",
    "else:\n",
    "  print(\"AGC\")"
   ]
  },
  {
   "cell_type": "code",
   "execution_count": 3,
   "metadata": {},
   "outputs": [
    {
     "name": "stdout",
     "output_type": "stream",
     "text": [
      "3000\n",
      "AGC\n"
     ]
    }
   ],
   "source": [
    "R = int(input())\n",
    "if R < 1200:\n",
    "  print(\"ABC\")\n",
    "elif R < 2800:\n",
    "  print(\"ARC\")\n",
    "else:\n",
    "  print(\"AGC\")"
   ]
  },
  {
   "cell_type": "code",
   "execution_count": null,
   "metadata": {},
   "outputs": [],
   "source": []
  }
 ],
 "metadata": {
  "kernelspec": {
   "display_name": "Python 3",
   "language": "python",
   "name": "python3"
  },
  "language_info": {
   "codemirror_mode": {
    "name": "ipython",
    "version": 3
   },
   "file_extension": ".py",
   "mimetype": "text/x-python",
   "name": "python",
   "nbconvert_exporter": "python",
   "pygments_lexer": "ipython3",
   "version": "3.7.0"
  }
 },
 "nbformat": 4,
 "nbformat_minor": 2
}
