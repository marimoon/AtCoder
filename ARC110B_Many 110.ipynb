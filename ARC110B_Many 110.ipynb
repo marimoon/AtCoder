{
 "cells": [
  {
   "cell_type": "markdown",
   "metadata": {},
   "source": [
    "[問題](https://atcoder.jp/contests/arc110/tasks/arc110_b)"
   ]
  },
  {
   "cell_type": "code",
   "execution_count": 1,
   "metadata": {},
   "outputs": [
    {
     "name": "stdout",
     "output_type": "stream",
     "text": [
      "10000000000\n"
     ]
    }
   ],
   "source": [
    "#n = int(input())\n",
    "#S = input()\n",
    "n = 3\n",
    "S = '110'\n",
    "\n",
    "def ARC110B(n, S):\n",
    "    string = \"110\"*n\n",
    "    ans = 0\n",
    "    for i in range(3):\n",
    "        if S == string[i:n+i]:\n",
    "            st = i\n",
    "            ans += (3*10**10-st-len(S))//(3) + 1\n",
    "    print(ans)\n",
    "\n",
    "ARC110B(n, S)"
   ]
  },
  {
   "cell_type": "markdown",
   "metadata": {},
   "source": [
    "## 解説\n",
    "検討する組合せは、3パターンである。(繰返し周期が3文字であるため)  \n",
    "開始文字の位置ごとに、マッチングするかを検討する。  \n",
    "\n",
    "```\n",
    "                 3 * 10**10 (L)\n",
    "<---------------------------------------------->\n",
    "<-> st\n",
    "   <-------> 文字列長(S)\n",
    "   \n",
    "   以降、k個のマッチング位置がある場合、\n",
    "   (L -st) - (3k + len(S) ) = 0 or 1 or 2\n",
    "   したがって、k = ( L - st - len(S) ) // 3である。\n",
    "   @@@<------->\n",
    "      @@@<------->\n",
    "         ・・・                         len(S)\n",
    "                                   @@@<-------> \n",
    "```\n",
    "したがって、開始位置st(=0,1,2の3パターン)ごとに,  \n",
    "取りうるマッチング位置の組合せはk+1個ある。"
   ]
  },
  {
   "cell_type": "code",
   "execution_count": 2,
   "metadata": {},
   "outputs": [
    {
     "name": "stdout",
     "output_type": "stream",
     "text": [
      "- n= 1, S=1     : ans=20000000000\n",
      "- n= 1, S=0     : ans=10000000000\n",
      "- n= 2, S=11    : ans=10000000000\n",
      "- n= 2, S=10    : ans=10000000000\n",
      "- n= 2, S=01    : ans=9999999999\n",
      "- n= 2, S=00    : ans=0\n",
      "- n= 3, S=110   : ans=10000000000\n",
      "- n= 4, S=1101  : ans=9999999999\n"
     ]
    }
   ],
   "source": [
    "def ARC110B(n, S):\n",
    "    string = \"110\"*n\n",
    "    ans = 0\n",
    "    for i in range(3):\n",
    "        if S == string[i:n+i]:\n",
    "            st = i\n",
    "            ans += (3*10**10-st-len(S))//(3) + 1\n",
    "    print(ans)\n",
    "\n",
    "cases = ( (1,\"1\"), (1, \"0\"), (2, \"11\"), (2, \"10\"), (2, \"01\"), (2, \"00\"), (3, \"110\"), (4, \"1101\") )\n",
    "for (n, S) in cases:\n",
    "    print(\"- n={0:2d}, S={1:5s} : ans=\".format(n, S), end=\"\")\n",
    "    ARC110B(n, S)"
   ]
  },
  {
   "cell_type": "code",
   "execution_count": null,
   "metadata": {},
   "outputs": [],
   "source": []
  }
 ],
 "metadata": {
  "kernelspec": {
   "display_name": "Python 3",
   "language": "python",
   "name": "python3"
  },
  "language_info": {
   "codemirror_mode": {
    "name": "ipython",
    "version": 3
   },
   "file_extension": ".py",
   "mimetype": "text/x-python",
   "name": "python",
   "nbconvert_exporter": "python",
   "pygments_lexer": "ipython3",
   "version": "3.7.7"
  }
 },
 "nbformat": 4,
 "nbformat_minor": 4
}
