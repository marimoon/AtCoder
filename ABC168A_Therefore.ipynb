{
 "cells": [
  {
   "cell_type": "markdown",
   "metadata": {},
   "source": [
    "[問題](https://atcoder.jp/contests/abc168/tasks/abc168_a)"
   ]
  },
  {
   "cell_type": "code",
   "execution_count": 1,
   "metadata": {},
   "outputs": [
    {
     "name": "stdout",
     "output_type": "stream",
     "text": [
      "4\n",
      "hon\n"
     ]
    }
   ],
   "source": [
    "n = int(input())\n",
    "hon = \"hon\"\n",
    "if n%10 in [0,1,6,8]:\n",
    "  hon=\"pon\"\n",
    "elif n%10 == 3:\n",
    "  hon=\"bon\"\n",
    "print(hon)"
   ]
  },
  {
   "cell_type": "code",
   "execution_count": 2,
   "metadata": {},
   "outputs": [
    {
     "name": "stdout",
     "output_type": "stream",
     "text": [
      "3\n",
      "bon\n"
     ]
    }
   ],
   "source": [
    "n = int(input())\n",
    "hon = \"hon\"\n",
    "if n%10 in [0,1,6,8]:\n",
    "  hon=\"pon\"\n",
    "elif n%10 == 3:\n",
    "  hon=\"bon\"\n",
    "print(hon)"
   ]
  },
  {
   "cell_type": "code",
   "execution_count": 3,
   "metadata": {},
   "outputs": [
    {
     "name": "stdout",
     "output_type": "stream",
     "text": [
      "1\n",
      "pon\n"
     ]
    }
   ],
   "source": [
    "n = int(input())\n",
    "hon = \"hon\"\n",
    "if n%10 in [0,1,6,8]:\n",
    "  hon=\"pon\"\n",
    "elif n%10 == 3:\n",
    "  hon=\"bon\"\n",
    "print(hon)"
   ]
  },
  {
   "cell_type": "code",
   "execution_count": null,
   "metadata": {},
   "outputs": [],
   "source": []
  }
 ],
 "metadata": {
  "kernelspec": {
   "display_name": "Python 3",
   "language": "python",
   "name": "python3"
  },
  "language_info": {
   "codemirror_mode": {
    "name": "ipython",
    "version": 3
   },
   "file_extension": ".py",
   "mimetype": "text/x-python",
   "name": "python",
   "nbconvert_exporter": "python",
   "pygments_lexer": "ipython3",
   "version": "3.7.0"
  }
 },
 "nbformat": 4,
 "nbformat_minor": 2
}
