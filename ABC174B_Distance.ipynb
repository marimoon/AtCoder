{
 "cells": [
  {
   "cell_type": "markdown",
   "metadata": {},
   "source": [
    "[問題](https://atcoder.jp/contests/abc174/tasks/abc174_b)"
   ]
  },
  {
   "cell_type": "code",
   "execution_count": 2,
   "metadata": {},
   "outputs": [
    {
     "name": "stdout",
     "output_type": "stream",
     "text": [
      "3 5\n",
      "1 2\n",
      "1 3\n",
      "2 5\n",
      "2\n"
     ]
    }
   ],
   "source": [
    "N, D = map(int, input().split())\n",
    "points = []\n",
    "for _ in range(N):\n",
    "  points.append( map(int, input().split() ) )\n",
    "\n",
    "print( sum( [ 1 for (x,y) in points\n",
    "                if (x*x+y*y)<= D*D ] )  )"
   ]
  }
 ],
 "metadata": {
  "kernelspec": {
   "display_name": "Python 3",
   "language": "python",
   "name": "python3"
  },
  "language_info": {
   "codemirror_mode": {
    "name": "ipython",
    "version": 3
   },
   "file_extension": ".py",
   "mimetype": "text/x-python",
   "name": "python",
   "nbconvert_exporter": "python",
   "pygments_lexer": "ipython3",
   "version": "3.7.0"
  }
 },
 "nbformat": 4,
 "nbformat_minor": 2
}
