{
 "cells": [
  {
   "cell_type": "markdown",
   "metadata": {},
   "source": [
    "# ABC184B"
   ]
  },
  {
   "cell_type": "markdown",
   "metadata": {},
   "source": [
    "問題：[ABC184B](https://atcoder.jp/contests/abc184/tasks/abc184_b)"
   ]
  },
  {
   "cell_type": "code",
   "execution_count": 2,
   "metadata": {},
   "outputs": [
    {
     "name": "stdout",
     "output_type": "stream",
     "text": [
      "10  5\n",
      "oxoxoxooxooxxox\n",
      "6\n"
     ]
    }
   ],
   "source": [
    "n, x = map(int, input().split())\n",
    "s = input()\n",
    "s = [ int(i=='o') for i in s ]\n",
    "\n",
    "p1 = [-1, 1]\n",
    "p2 = [0,1]\n",
    "for i in s:\n",
    "   x = x+p1[i] if x>0 else x+p2[i]\n",
    "print(x)"
   ]
  },
  {
   "cell_type": "code",
   "execution_count": null,
   "metadata": {},
   "outputs": [],
   "source": []
  }
 ],
 "metadata": {
  "kernelspec": {
   "display_name": "Python 3",
   "language": "python",
   "name": "python3"
  },
  "language_info": {
   "codemirror_mode": {
    "name": "ipython",
    "version": 3
   },
   "file_extension": ".py",
   "mimetype": "text/x-python",
   "name": "python",
   "nbconvert_exporter": "python",
   "pygments_lexer": "ipython3",
   "version": "3.7.7"
  }
 },
 "nbformat": 4,
 "nbformat_minor": 4
}
