{
 "cells": [
  {
   "cell_type": "markdown",
   "metadata": {},
   "source": [
    "[問題](https://atcoder.jp/contests/abc180/tasks/abc180_b)"
   ]
  },
  {
   "cell_type": "code",
   "execution_count": 30,
   "metadata": {},
   "outputs": [
    {
     "name": "stdout",
     "output_type": "stream",
     "text": [
      "4\n",
      "1 3 5 6\n",
      "15\n",
      "8.426149773176359\n",
      "6\n"
     ]
    }
   ],
   "source": [
    "from functools import reduce\n",
    "import math\n",
    "import copy\n",
    "\n",
    "N = int(input())\n",
    "x = list(map(int, input().split()))\n",
    "\n",
    "def sum_sq(x, y):\n",
    "    return x + y*y\n",
    "\n",
    "def sum_abs(x, y):\n",
    "    return x + abs(y)\n",
    "\n",
    "def max_abs(x, y):\n",
    "    return x if x > abs(y) else abs(y)\n",
    "\n",
    "def ABC180B(N, x):\n",
    "    print( reduce( sum_abs, x, 0 )  )\n",
    "    print( \"{:.15f}\".format(math.sqrt( reduce( sum_sq, x, 0 )))  )\n",
    "    print( reduce(max_abs, x, -1)  )\n",
    "\n",
    "ABC180B(N, x)"
   ]
  },
  {
   "cell_type": "code",
   "execution_count": null,
   "metadata": {},
   "outputs": [],
   "source": []
  }
 ],
 "metadata": {
  "kernelspec": {
   "display_name": "Python 3",
   "language": "python",
   "name": "python3"
  },
  "language_info": {
   "codemirror_mode": {
    "name": "ipython",
    "version": 3
   },
   "file_extension": ".py",
   "mimetype": "text/x-python",
   "name": "python",
   "nbconvert_exporter": "python",
   "pygments_lexer": "ipython3",
   "version": "3.7.0"
  }
 },
 "nbformat": 4,
 "nbformat_minor": 2
}
