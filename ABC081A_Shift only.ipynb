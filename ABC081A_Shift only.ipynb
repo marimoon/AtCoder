{
 "cells": [
  {
   "cell_type": "markdown",
   "metadata": {},
   "source": [
    "[問題](https://atcoder.jp/contests/abs/tasks/abc081_b)"
   ]
  },
  {
   "cell_type": "code",
   "execution_count": 14,
   "metadata": {},
   "outputs": [
    {
     "name": "stdout",
     "output_type": "stream",
     "text": [
      "3\n",
      "4 6 8\n",
      "judge=  True\n",
      "[4, 6, 8]  --> [2, 3, 4]\n",
      "judge=  False\n",
      "1\n"
     ]
    }
   ],
   "source": [
    "N = int(input())\n",
    "arr  =list(map(int, input().split()))\n",
    "\n",
    "def div2(x):\n",
    "  return x//2\n",
    "\n",
    "def judge(arr):\n",
    "  return sum([ v%2 for v in arr ])==0\n",
    "\n",
    "ans = 0\n",
    "for i in range(max(arr)):\n",
    "  #print('judge= ',judge(arr))\n",
    "  if judge(arr) is True:\n",
    "    #print(arr, ' --> ', end='')\n",
    "    arr = list(map(div2, arr))\n",
    "    #print(arr)\n",
    "    ans += 1\n",
    "  else:\n",
    "    break\n",
    "print(ans)\n"
   ]
  }
 ],
 "metadata": {
  "kernelspec": {
   "display_name": "Python 3",
   "language": "python",
   "name": "python3"
  },
  "language_info": {
   "codemirror_mode": {
    "name": "ipython",
    "version": 3
   },
   "file_extension": ".py",
   "mimetype": "text/x-python",
   "name": "python",
   "nbconvert_exporter": "python",
   "pygments_lexer": "ipython3",
   "version": "3.7.7"
  }
 },
 "nbformat": 4,
 "nbformat_minor": 4
}
