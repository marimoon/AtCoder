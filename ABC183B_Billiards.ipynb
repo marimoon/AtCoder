{
 "cells": [
  {
   "cell_type": "markdown",
   "metadata": {},
   "source": [
    "[問題](https://atcoder.jp/contests/abc183/tasks/abc183_b)"
   ]
  },
  {
   "cell_type": "code",
   "execution_count": 1,
   "metadata": {},
   "outputs": [
    {
     "name": "stdout",
     "output_type": "stream",
     "text": [
      "3 2 10 20\n",
      "3.6363636363636362\n"
     ]
    }
   ],
   "source": [
    "sx,sy,gx,gy = map(int, input().split())\n",
    "# sy:gy= (rx-sx):(gx-rx)\n",
    "# gy*(rx-sx) = sy*(gx-rx)\n",
    "# (gy+sy)*rx = gy*sx+sy*gx\n",
    "#  rx = (gy*sx+sy*gx)/(gy+sy)\n",
    "print( (gy*sx+sy*gx)/(gy+sy) )"
   ]
  },
  {
   "cell_type": "code",
   "execution_count": null,
   "metadata": {},
   "outputs": [],
   "source": []
  }
 ],
 "metadata": {
  "kernelspec": {
   "display_name": "Python 3",
   "language": "python",
   "name": "python3"
  },
  "language_info": {
   "codemirror_mode": {
    "name": "ipython",
    "version": 3
   },
   "file_extension": ".py",
   "mimetype": "text/x-python",
   "name": "python",
   "nbconvert_exporter": "python",
   "pygments_lexer": "ipython3",
   "version": "3.7.7"
  }
 },
 "nbformat": 4,
 "nbformat_minor": 4
}
