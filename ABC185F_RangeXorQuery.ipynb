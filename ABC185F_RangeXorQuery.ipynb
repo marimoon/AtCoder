{
 "cells": [
  {
   "cell_type": "markdown",
   "metadata": {},
   "source": [
    "[問題](https://atcoder.jp/contests/abc185/tasks/abc185_f)"
   ]
  },
  {
   "cell_type": "code",
   "execution_count": null,
   "metadata": {},
   "outputs": [],
   "source": [
    "N, Q = list(map(int, input().split()))\n",
    "A    = list(map(int, input().split()))\n",
    "T, X, Y = [], [], []\n",
    "for _ in range(Q):\n",
    "    t, x, y = list(map(int, input().split()))\n",
    "    T.append(t)\n",
    "    X.append(x)\n",
    "    Y.append(y)\n",
    "\n",
    "from functools import reduce\n",
    "def myfunc(x, y):\n",
    "    #print('aa', x, y)\n",
    "    return x^y\n",
    "for (t, x, y) in zip(T, X, Y):\n",
    "    #print(\"t,x,y\", t, x, y)\n",
    "    if t == 1:\n",
    "        A[x-1] = (A[x-1] ^ y)\n",
    "        #print(\"@@@\", A)\n",
    "    else:\n",
    "        print(reduce( myfunc, A[x:y], A[x-1]))"
   ]
  }
 ],
 "metadata": {
  "kernelspec": {
   "display_name": "Python 3",
   "language": "python",
   "name": "python3"
  },
  "language_info": {
   "codemirror_mode": {
    "name": "ipython",
    "version": 3
   },
   "file_extension": ".py",
   "mimetype": "text/x-python",
   "name": "python",
   "nbconvert_exporter": "python",
   "pygments_lexer": "ipython3",
   "version": "3.7.0"
  }
 },
 "nbformat": 4,
 "nbformat_minor": 2
}
