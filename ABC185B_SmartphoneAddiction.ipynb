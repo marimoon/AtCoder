{
 "cells": [
  {
   "cell_type": "markdown",
   "metadata": {},
   "source": [
    "[問題](https://atcoder.jp/contests/abc185/tasks/abc185_b)"
   ]
  },
  {
   "cell_type": "code",
   "execution_count": 2,
   "metadata": {},
   "outputs": [
    {
     "name": "stdout",
     "output_type": "stream",
     "text": [
      "10 2 20\n",
      "9 11\n",
      "13 17\n",
      "Yes\n"
     ]
    }
   ],
   "source": [
    "N, M, T = list(map(int, input().split()))\n",
    "As, Bs = list(), list()\n",
    "for _ in range(M):\n",
    "    a,b = list(map(int, input().split()))\n",
    "    As.append(a)\n",
    "    Bs.append(b)\n",
    "\n",
    "x = list() # 消費ならマイナス, 充電ならプラス\n",
    "x0 = 0\n",
    "if M > 0:\n",
    "    for i in range(len(As)):\n",
    "        x.append( -1*(As[i]-x0) )\n",
    "        x.append( Bs[i]-As[i] )\n",
    "        x0 = Bs[i]\n",
    "        if i == len(As)-1:\n",
    "            x.append( -1*(T-Bs[i]) )\n",
    "else:\n",
    "    x = [-T]\n",
    "\n",
    "#print(x)\n",
    "#for i in range(T):\n",
    "#    k = '-'\n",
    "#    for a, b in zip(As,Bs):\n",
    "#        if (a <= i) and (i < b):\n",
    "#            k ='+'\n",
    "#            break\n",
    "#    print(k, end=\"\")\n",
    "#print(\"\")\n",
    "\n",
    "ans = \"Yes\"\n",
    "amount = N\n",
    "for i in range(len(x)):\n",
    "    amount += x[i]\n",
    "    if amount <= 0:\n",
    "        ans = \"No\"\n",
    "        break\n",
    "    if amount > N:\n",
    "        amount = N\n",
    "print(ans)"
   ]
  },
  {
   "cell_type": "code",
   "execution_count": null,
   "metadata": {},
   "outputs": [],
   "source": []
  }
 ],
 "metadata": {
  "kernelspec": {
   "display_name": "Python 3",
   "language": "python",
   "name": "python3"
  },
  "language_info": {
   "codemirror_mode": {
    "name": "ipython",
    "version": 3
   },
   "file_extension": ".py",
   "mimetype": "text/x-python",
   "name": "python",
   "nbconvert_exporter": "python",
   "pygments_lexer": "ipython3",
   "version": "3.7.0"
  }
 },
 "nbformat": 4,
 "nbformat_minor": 2
}
