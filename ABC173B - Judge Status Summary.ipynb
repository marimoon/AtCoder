{
 "cells": [
  {
   "cell_type": "markdown",
   "metadata": {},
   "source": [
    "[問題](https://atcoder.jp/contests/abc173/tasks/abc173_b)"
   ]
  },
  {
   "cell_type": "code",
   "execution_count": 1,
   "metadata": {},
   "outputs": [
    {
     "name": "stdout",
     "output_type": "stream",
     "text": [
      "AC x 2\n",
      "WA x 1\n",
      "TLE x 1\n",
      "RE x 1\n"
     ]
    }
   ],
   "source": [
    "#N = int(input())\n",
    "#S = []\n",
    "#for _ in range(N):\n",
    "#  S.append(input())\n",
    "N = 5\n",
    "S = [\"AC\", \"WA\", \"TLE\", \"RE\", \"AC\"]\n",
    "\n",
    "\n",
    "ans = {\"AC\":0, \"WA\":0, \"TLE\":0, \"RE\":0}\n",
    "lans = [\"AC\", \"WA\", \"TLE\", \"RE\"]\n",
    "for v in S:\n",
    "  ans[v] += 1\n",
    "\n",
    "for l in lans:\n",
    "  print(\"{0} x {1}\".format(l, ans[l]))"
   ]
  },
  {
   "cell_type": "code",
   "execution_count": null,
   "metadata": {},
   "outputs": [],
   "source": []
  }
 ],
 "metadata": {
  "kernelspec": {
   "display_name": "Python 3",
   "language": "python",
   "name": "python3"
  },
  "language_info": {
   "codemirror_mode": {
    "name": "ipython",
    "version": 3
   },
   "file_extension": ".py",
   "mimetype": "text/x-python",
   "name": "python",
   "nbconvert_exporter": "python",
   "pygments_lexer": "ipython3",
   "version": "3.7.0"
  }
 },
 "nbformat": 4,
 "nbformat_minor": 2
}
