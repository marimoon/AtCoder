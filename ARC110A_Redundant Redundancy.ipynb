{
 "cells": [
  {
   "cell_type": "markdown",
   "metadata": {},
   "source": [
    "[問題](https://atcoder.jp/contests/arc110/tasks/arc110_a)"
   ]
  },
  {
   "cell_type": "markdown",
   "metadata": {},
   "source": [
    "本問題は$2$, ..., $N$の最小公倍数を取得することと同義である。\n",
    "reduceを使用する。\n",
    "\n",
    "gcd : 最大公約数 Greatest common divisor\n",
    "lcm : 最小公倍数 Least common multiple\n",
    "  \n",
    "Pythonでは、math.gcd(最大公約数)が存在するが、最小公倍数は存在しない。  \n",
    "最小公倍数lcmは最大公約数を用いて計算する。  \n",
    "$$lcm = \\frac{ x y }{gcd(x,y)} $$"
   ]
  },
  {
   "cell_type": "code",
   "execution_count": 1,
   "metadata": {},
   "outputs": [
    {
     "name": "stdout",
     "output_type": "stream",
     "text": [
      "30\n",
      "2329089562801\n"
     ]
    }
   ],
   "source": [
    "from functools import reduce\n",
    "from math import gcd\n",
    "\n",
    "def lcm(x, y):\n",
    "    return (x * y) // gcd(x, y)\n",
    " \n",
    "n = int(input())\n",
    "print(reduce(lcm,range(2,n+1))+1)"
   ]
  },
  {
   "cell_type": "markdown",
   "metadata": {},
   "source": [
    "テクニック"
   ]
  },
  {
   "cell_type": "markdown",
   "metadata": {},
   "source": [
    "`reduce(func, iterator)`を使用することで、((i-1)番までの最小公倍数, i)との最小公倍数を次々と計算することができる。"
   ]
  },
  {
   "cell_type": "code",
   "execution_count": 2,
   "metadata": {},
   "outputs": [
    {
     "name": "stdout",
     "output_type": "stream",
     "text": [
      "10\n",
      "[Log] lcm(     2,     3) =      6\n",
      "[Log] lcm(     6,     4) =     12\n",
      "[Log] lcm(    12,     5) =     60\n",
      "[Log] lcm(    60,     6) =     60\n",
      "[Log] lcm(    60,     7) =    420\n",
      "[Log] lcm(   420,     8) =    840\n",
      "[Log] lcm(   840,     9) =   2520\n",
      "[Log] lcm(  2520,    10) =   2520\n",
      "Ans.= 2521\n"
     ]
    }
   ],
   "source": [
    "from functools import reduce\n",
    "from math import gcd\n",
    "\n",
    "def lcm(x, y):\n",
    "    print('[Log] lcm({0:6d},{1:6d}) = {2:6d}'.format(x, y, (x * y) // gcd(x, y)))\n",
    "    return (x * y) // gcd(x, y)\n",
    " \n",
    "n = int(input())\n",
    "print('Ans.=', reduce(lcm,range(2,n+1))+1)"
   ]
  },
  {
   "cell_type": "code",
   "execution_count": null,
   "metadata": {},
   "outputs": [],
   "source": []
  }
 ],
 "metadata": {
  "kernelspec": {
   "display_name": "Python 3",
   "language": "python",
   "name": "python3"
  },
  "language_info": {
   "codemirror_mode": {
    "name": "ipython",
    "version": 3
   },
   "file_extension": ".py",
   "mimetype": "text/x-python",
   "name": "python",
   "nbconvert_exporter": "python",
   "pygments_lexer": "ipython3",
   "version": "3.7.7"
  }
 },
 "nbformat": 4,
 "nbformat_minor": 4
}
