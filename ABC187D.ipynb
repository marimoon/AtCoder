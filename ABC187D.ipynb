{
 "cells": [
  {
   "cell_type": "markdown",
   "metadata": {},
   "source": [
    "[問題](https://atcoder.jp/contests/abc187/tasks/abc187_d)"
   ]
  },
  {
   "cell_type": "code",
   "execution_count": null,
   "metadata": {},
   "outputs": [],
   "source": [
    "N = int(input())\n",
    "As, Bs, Cs, Ds = [], [], [], []\n",
    "for _ in range(N):\n",
    "    a,b = list(map(int, input().split()))\n",
    "    As.append(a)\n",
    "    Bs.append(b)\n",
    "    Cs.append(a+b)\n",
    "    Ds.append(2*a+b)\n",
    "items = zip(Ds, Cs, As)\n",
    "items = sorted(items)\n",
    "Ds, Cs, As = zip(*items)\n",
    "\n",
    "#print(Ds,Cs,As)\n",
    "sumC = 0\n",
    "sumA = sum(As)\n",
    "cnt = 0\n",
    "#print(\"**\", sumC, sumA)\n",
    "for i in range(N):\n",
    "    cnt += 1\n",
    "    sumC += Cs[N-1-i]\n",
    "    sumA -= As[N-1-i]\n",
    "    #print(\"-->\", sumC, sumA)\n",
    "    if sumC > sumA:\n",
    "        break\n",
    "print(cnt)"
   ]
  }
 ],
 "metadata": {
  "kernelspec": {
   "display_name": "Python 3",
   "language": "python",
   "name": "python3"
  },
  "language_info": {
   "codemirror_mode": {
    "name": "ipython",
    "version": 3
   },
   "file_extension": ".py",
   "mimetype": "text/x-python",
   "name": "python",
   "nbconvert_exporter": "python",
   "pygments_lexer": "ipython3",
   "version": "3.7.7"
  }
 },
 "nbformat": 4,
 "nbformat_minor": 4
}
