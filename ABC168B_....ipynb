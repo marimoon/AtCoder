{
 "cells": [
  {
   "cell_type": "markdown",
   "metadata": {},
   "source": [
    "[問題](https://atcoder.jp/contests/abc168/tasks/abc168_b)"
   ]
  },
  {
   "cell_type": "code",
   "execution_count": 1,
   "metadata": {},
   "outputs": [
    {
     "name": "stdout",
     "output_type": "stream",
     "text": [
      "4\n",
      "231ja\n",
      "231j...\n"
     ]
    }
   ],
   "source": [
    "K = int(input())\n",
    "S = input()\n",
    "if len(S) > K:\n",
    "  print( \"{0}...\".format(S[:K]) )\n",
    "else:\n",
    "  print(S)"
   ]
  },
  {
   "cell_type": "code",
   "execution_count": 2,
   "metadata": {},
   "outputs": [
    {
     "name": "stdout",
     "output_type": "stream",
     "text": [
      "10\n",
      "fsajkvas\n",
      "fsajkvas\n"
     ]
    }
   ],
   "source": [
    "K = int(input())\n",
    "S = input()\n",
    "if len(S) > K:\n",
    "  print( \"{0}...\".format(S[:K]) )\n",
    "else:\n",
    "  print(S)"
   ]
  },
  {
   "cell_type": "code",
   "execution_count": null,
   "metadata": {},
   "outputs": [],
   "source": []
  }
 ],
 "metadata": {
  "kernelspec": {
   "display_name": "Python 3",
   "language": "python",
   "name": "python3"
  },
  "language_info": {
   "codemirror_mode": {
    "name": "ipython",
    "version": 3
   },
   "file_extension": ".py",
   "mimetype": "text/x-python",
   "name": "python",
   "nbconvert_exporter": "python",
   "pygments_lexer": "ipython3",
   "version": "3.7.0"
  }
 },
 "nbformat": 4,
 "nbformat_minor": 2
}
