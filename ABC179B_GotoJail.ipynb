{
 "cells": [
  {
   "cell_type": "code",
   "execution_count": 5,
   "metadata": {},
   "outputs": [
    {
     "name": "stdout",
     "output_type": "stream",
     "text": [
      "No\n"
     ]
    }
   ],
   "source": [
    "#N = int(input())\n",
    "#D = []\n",
    "#for _ in range(N):\n",
    "#  d1,d2 = map(int, input().split())\n",
    "#  D.append( d1 == d2)\n",
    "\n",
    "N = 5\n",
    "data = [\n",
    "    [1, 2],\n",
    "    [6, 6],\n",
    "    [4, 4],\n",
    "    [3, 3],\n",
    "    [3, 2]\n",
    "]\n",
    "for [d1,d2] in data:\n",
    "  D.append( d1 == d2 )\n",
    "\n",
    "ans = 0\n",
    "if N > 2:\n",
    "  for i in range(N-2):\n",
    "    if D[i] == True and D[i+1] == True and D[i+2] == True:\n",
    "      ans += 1\n",
    "print( \"Yes\" if ans > 0 else \"No\" )"
   ]
  },
  {
   "cell_type": "code",
   "execution_count": null,
   "metadata": {},
   "outputs": [],
   "source": []
  }
 ],
 "metadata": {
  "kernelspec": {
   "display_name": "Python 3",
   "language": "python",
   "name": "python3"
  },
  "language_info": {
   "codemirror_mode": {
    "name": "ipython",
    "version": 3
   },
   "file_extension": ".py",
   "mimetype": "text/x-python",
   "name": "python",
   "nbconvert_exporter": "python",
   "pygments_lexer": "ipython3",
   "version": "3.7.0"
  }
 },
 "nbformat": 4,
 "nbformat_minor": 2
}
