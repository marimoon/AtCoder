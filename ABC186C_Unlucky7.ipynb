{
 "cells": [
  {
   "cell_type": "markdown",
   "metadata": {},
   "source": [
    "[問題](https://atcoder.jp/contests/abc186/tasks/abc186_c)"
   ]
  },
  {
   "cell_type": "code",
   "execution_count": null,
   "metadata": {},
   "outputs": [],
   "source": [
    "N = int(input())\n",
    "\n",
    "def is7_10(x):\n",
    "  a = str(x)\n",
    "  if '7' in a:\n",
    "    return True\n",
    "  else:\n",
    "    return False\n",
    "\n",
    "def is7_8(x):\n",
    "  a = oct(x)\n",
    "  if '7' in a:\n",
    "    return True\n",
    "  else:\n",
    "    return False\n",
    "\n",
    "cnt = 0\n",
    "for i in range(1,N+1):\n",
    "  if (is7_10(i) == True) or (is7_8(i) == True):\n",
    "    cnt += 1\n",
    "print( N - cnt )\n"
   ]
  }
 ],
 "metadata": {
  "kernelspec": {
   "display_name": "Python 3",
   "language": "python",
   "name": "python3"
  },
  "language_info": {
   "codemirror_mode": {
    "name": "ipython",
    "version": 3
   },
   "file_extension": ".py",
   "mimetype": "text/x-python",
   "name": "python",
   "nbconvert_exporter": "python",
   "pygments_lexer": "ipython3",
   "version": "3.7.0"
  }
 },
 "nbformat": 4,
 "nbformat_minor": 2
}
